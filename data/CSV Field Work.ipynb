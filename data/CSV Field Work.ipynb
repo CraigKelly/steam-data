{
 "cells": [
  {
   "cell_type": "code",
   "execution_count": 1,
   "metadata": {
    "collapsed": true
   },
   "outputs": [],
   "source": [
    "from example import read_games\n",
    "recs = list(read_games())"
   ]
  },
  {
   "cell_type": "code",
   "execution_count": 2,
   "metadata": {
    "collapsed": false
   },
   "outputs": [
    {
     "name": "stdout",
     "output_type": "stream",
     "text": [
      "['about_the_game', 'achievements', 'background', 'categories', 'controller_support', 'demos', 'detailed_description', 'developers', 'dlc', 'drm_notice', 'ext_user_account_notice', 'genres', 'header_image', 'is_free', 'legal_notice', 'linux_requirements', 'mac_requirements', 'metacritic', 'movies', 'name', 'package_groups', 'packages', 'pc_requirements', 'platforms', 'price_overview', 'publishers', 'recommendations', 'release_date', 'required_age', 'reviews', 'screenshots', 'short_description', 'steam_appid', 'support_info', 'supported_languages', 'type', 'website']\n"
     ]
    }
   ],
   "source": [
    "from collections import defaultdict\n",
    "topkeys = defaultdict(int)\n",
    "for rec in recs:\n",
    "    for k in rec['data'].keys():\n",
    "        topkeys[k] += 1\n",
    "print(list(sorted(topkeys.keys())))"
   ]
  },
  {
   "cell_type": "code",
   "execution_count": 3,
   "metadata": {
    "collapsed": false
   },
   "outputs": [
    {
     "name": "stdout",
     "output_type": "stream",
     "text": [
      "about_the_game               12037    11233 !nsane is a nod to t 日本語バージョンダウンロード開始されまし\n",
      "achievements                  6615        1               <DICT>               <DICT>\n",
      "background                   12037    11187 http://cdn.akamai.st http://cdn.akamai.st\n",
      "categories                   11813        1               <LIST>               <LIST>\n",
      "controller_support            3391        1                 full                 full\n",
      "demos                         1134        1               <LIST>               <LIST>\n",
      "detailed_description         12037    11234 !nsane is a nod to t 日本語バージョンダウンロード開始されまし\n",
      "developers                   11402        1               <LIST>               <LIST>\n",
      "dlc                           2076        1               <LIST>               <LIST>\n",
      "drm_notice                      81       42 Act Control<br>5 mac           simple key\n",
      "ext_user_account_notice        134       83 1C Game Studios Acco       www.doak.co.za\n",
      "genres                       11294        1               <LIST>               <LIST>\n",
      "header_image                 12037    11855 http://cdn.akamai.st http://cdn.akamai.st\n",
      "is_free                      12037        1                 True                 True\n",
      "legal_notice                  5137     4360 \"Age of Steel: Recha           ⓒ REMIMORY\n",
      "linux_requirements           12037        1               <DICT>               <DICT>\n",
      "mac_requirements             12037        1               <DICT>               <DICT>\n",
      "metacritic                    2263        1               <DICT>               <DICT>\n",
      "movies                       10429        1               <LIST>               <LIST>\n",
      "name                         12037    11882 ! That Bastard Is Tr              ｈａｃｋｍｕｄ\n",
      "package_groups               12037        1               <LIST>               <LIST>\n",
      "packages                     10193        1               <LIST>               <LIST>\n",
      "pc_requirements              12037        1               <DICT>               <DICT>\n",
      "platforms                    12037        1               <DICT>               <DICT>\n",
      "price_overview               10008        1               <DICT>               <DICT>\n",
      "publishers                   12037        1               <LIST>               <LIST>\n",
      "recommendations               4832        1               <DICT>               <DICT>\n",
      "release_date                 12037        1               <DICT>               <DICT>\n",
      "required_age                 12037       11                    0                    6\n",
      "reviews                       3178     3148 \"...strategy blender “遊戲風格可愛逗趣，玩起來輕鬆無壓力，簡\n",
      "screenshots                  11336        1               <LIST>               <LIST>\n",
      "short_description            12037    10099 !nsane is a nod to t 日本語バージョンダウンロード開始されまし\n",
      "steam_appid                  12037    11888                   10                99910\n",
      "support_info                 12037        1               <DICT>               <DICT>\n",
      "supported_languages          12003     2233 Arabic<strong>*</str Turkish, English, Si\n",
      "type                         12037        1                 game                 game\n",
      "website                      12037     7993          Edmundm.com     www.xenomorph.me\n"
     ]
    }
   ],
   "source": [
    "for ky,tot in sorted(topkeys.items()):\n",
    "    count = 0\n",
    "    uniq = set()\n",
    "    mn, mx = None, None\n",
    "    \n",
    "    for rec in recs:\n",
    "        val = rec['data'].get(ky, None)\n",
    "        if not val:\n",
    "            continue\n",
    "        count += 1\n",
    "        if isinstance(val, dict):\n",
    "            val = \"<DICT>\"\n",
    "        elif isinstance(val, list):\n",
    "            val = \"<LIST>\"\n",
    "        else:\n",
    "            val = str(val).strip()\n",
    "        uniq.add(val)\n",
    "        if mn is None or val < mn:\n",
    "            mn = val\n",
    "        if mx is None or val > mx:\n",
    "            mx = val\n",
    "    print(\"%-25s %8d %8d %20s %20s\" % (ky, tot, len(uniq), str(mn)[:20], str(mx)[:20]))\n",
    "        "
   ]
  },
  {
   "cell_type": "code",
   "execution_count": 24,
   "metadata": {
    "collapsed": false
   },
   "outputs": [
    {
     "name": "stdout",
     "output_type": "stream",
     "text": [
      "{'email': '', 'url': 'http://steamcommunity.com/app/10'}\n",
      "\n",
      "{'email': 'contact@exosyphenstudios.com', 'url': 'http://www.exosyphen.com/page_contact.html'}\n",
      "\n",
      "{'email': 'poweroflove1801@163.com', 'url': ''}\n",
      "\n",
      "{'email': 'help@acidwizardstudio.com', 'url': ''}\n",
      "\n",
      "{'email': 'support@childrenofmorta.com', 'url': 'http://www.childrenofmorta.com/'}\n",
      "\n",
      "{'email': 'contact@onion-core.com', 'url': 'http://onion-core.com/contact-us/'}\n",
      "\n",
      "{'email': 'support@spicyhorsegames.zendesk.com', 'url': 'http://support.spicyhorse.com'}\n",
      "\n",
      "{'email': 'epicdreams90@gmail.com', 'url': 'http://nobodyshot.ru/'}\n",
      "\n",
      "{'email': 'support@slitherine.co.uk', 'url': 'www.slitherine.com'}\n",
      "\n",
      "{'email': 'custservice@codemasters.com', 'url': ''}\n",
      "\n",
      "{'email': 'Dan@BackToBasicsGaming.com', 'url': 'http://www.backtobasicsgaming.com/#!contact/c6th'}\n",
      "\n",
      "{'email': 'support@gametology.net', 'url': 'www.gametology.net'}\n",
      "\n",
      "Counter({'email': 12037, 'url': 12037})\n"
     ]
    }
   ],
   "source": [
    "from random import choice\n",
    "from collections import Counter\n",
    "from pprint import PrettyPrinter\n",
    "pp = PrettyPrinter(width=120)\n",
    "pprint = pp.pprint\n",
    "\n",
    "def fields(name):\n",
    "    for rec in recs:\n",
    "        v = rec['data'].get(name, None)\n",
    "        if v:\n",
    "            yield v\n",
    "            \n",
    "field_values = list(fields('support_info'))\n",
    "def out(v):\n",
    "    pprint(v)\n",
    "    print(\"\")\n",
    "out(field_values[0])\n",
    "out(field_values[-1])\n",
    "for _ in range(10):\n",
    "    out(choice(field_values))\n",
    "\n",
    "\n",
    "# def scan_values():\n",
    "#     for fv in field_values:\n",
    "#         free, purchase, subscript = False, False, False\n",
    "#         for pg in fv:\n",
    "#             if pg.get('is_recurring_subscription', '') == 'true':\n",
    "#                 subscript = True\n",
    "#             for s in pg.get('subs', list()):\n",
    "#                 if s.get('is_free_license', None):\n",
    "#                     free = True\n",
    "#                 elif s.get('price_in_cents_with_discount', 0) > 0:\n",
    "#                     purchase = True\n",
    "#         yield (free, purchase, subscript)\n",
    "# pprint(Counter(list(scan_values())))\n",
    "           \n",
    "pprint(Counter([k for fv in field_values for k in fv.keys()]))\n",
    "\n",
    "# pprint(Counter([i.get('description', 'MISSING').lower() for fv in field_values for i in fv]))"
   ]
  },
  {
   "cell_type": "markdown",
   "metadata": {},
   "source": [
    "## Categories\n",
    "\n",
    "Each of these should be boolean column (from list of dict's, check 'description')\n",
    "\n",
    "* Co-op:Co-op|Local Co-op|Online Co-op\n",
    "* Multiplayer:Cross-Platform Multiplayer|Local Multi-Player|Multi-player|Online Multi-Player|Shared/Split Screen\n",
    "* In-App Purchases\n",
    "* Includes Source SDK\n",
    "* Includes level editor\n",
    "* MMO\n",
    "* Single-player\n",
    "* VR Support"
   ]
  },
  {
   "cell_type": "markdown",
   "metadata": {},
   "source": [
    "## Genres\n",
    "\n",
    "Like categories, it's a list of dicts. Use the dict['description'] for text and discretize:\n",
    "\n",
    "If description is empty string, then ignore it.\n",
    "\n",
    "All descriptions not described below are GenreIsOther\n",
    "\n",
    "These descriptions become GenreIsXXX:\n",
    "\n",
    "* indie\n",
    "* action\n",
    "* adventure\n",
    "* casual\n",
    "* strategy\n",
    "* rpg\n",
    "* simulation\n",
    "* early access\n",
    "* free to play\n",
    "* sports\n",
    "* racing\n",
    "* massively multiplayer\n",
    "\n",
    "These description become GenreIsNotGame:\n",
    "\n",
    "* utilities\n",
    "* design & illustration\n",
    "* animation & modeling\n",
    "* software training\n",
    "* education\n",
    "* audio production\n",
    "* video production\n",
    "* web publishing\n",
    "* photo editing\n",
    "* accounting\n"
   ]
  },
  {
   "cell_type": "markdown",
   "metadata": {},
   "source": [
    "## Requirements\n",
    "\n",
    "Applied to linux_requirements, mac_requirements, and pc_requirements\n",
    "\n",
    "Value is dictionary with possible keys:\n",
    "\n",
    "* minimum\n",
    "* recommended\n",
    "\n",
    "Turn into boolean, i.e.\n",
    "\n",
    "* LinuxReqsHaveMin = True if val.get('minimum', '') else False\n",
    "* LinuxReqsHaveRec = True if val.get('recommended', '') else False\n",
    "* MacReqsHaveMin = True if val.get('minimum', '') else False\n",
    "* MacReqsHaveRec = True if val.get('recommended', '') else False\n",
    "* PCReqsHaveMin = True if val.get('minimum', '') else False\n",
    "* PCReqsHaveRec = True if val.get('recommended', '') else False\n"
   ]
  },
  {
   "cell_type": "markdown",
   "metadata": {},
   "source": [
    "## Package Groups\n",
    "\n",
    "3 boolean columns: FreeVerAvail, PurchaseAvail, SubscriptionAvail\n",
    "\n",
    "Code for all:\n",
    "\n",
    "````\n",
    "def package_groups(rec):\n",
    "    pgs = rec.get(\"data\", dict()).get(\"package_groups\", list)\n",
    "    free, purchase, subscript = False, False, False\n",
    "    for pg in pgs:\n",
    "        if pg.get('is_recurring_subscription', '') == 'true':\n",
    "            subscript = True\n",
    "        for s in pg.get('subs', list()):\n",
    "            if s.get('is_free_license', None):\n",
    "                free = True\n",
    "            elif s.get('price_in_cents_with_discount', 0) > 0:\n",
    "                purchase = True\n",
    "    return (free, purchase, subscript)\n",
    "````\n"
   ]
  }
 ],
 "metadata": {
  "kernelspec": {
   "display_name": "Python 3",
   "language": "python",
   "name": "python3"
  },
  "language_info": {
   "codemirror_mode": {
    "name": "ipython",
    "version": 3
   },
   "file_extension": ".py",
   "mimetype": "text/x-python",
   "name": "python",
   "nbconvert_exporter": "python",
   "pygments_lexer": "ipython3",
   "version": "3.5.1"
  },
  "widgets": {
   "state": {},
   "version": "1.1.1"
  }
 },
 "nbformat": 4,
 "nbformat_minor": 0
}
