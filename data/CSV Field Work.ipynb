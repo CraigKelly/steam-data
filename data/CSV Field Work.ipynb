{
 "cells": [
  {
   "cell_type": "code",
   "execution_count": 1,
   "metadata": {
    "collapsed": true
   },
   "outputs": [],
   "source": [
    "from example import read_games\n",
    "recs = list(read_games())"
   ]
  },
  {
   "cell_type": "code",
   "execution_count": 2,
   "metadata": {
    "collapsed": false
   },
   "outputs": [
    {
     "name": "stdout",
     "output_type": "stream",
     "text": [
      "['about_the_game', 'achievements', 'background', 'categories', 'controller_support', 'demos', 'detailed_description', 'developers', 'dlc', 'drm_notice', 'ext_user_account_notice', 'genres', 'header_image', 'is_free', 'legal_notice', 'linux_requirements', 'mac_requirements', 'metacritic', 'movies', 'name', 'package_groups', 'packages', 'pc_requirements', 'platforms', 'price_overview', 'publishers', 'recommendations', 'release_date', 'required_age', 'reviews', 'screenshots', 'short_description', 'steam_appid', 'support_info', 'supported_languages', 'type', 'website']\n"
     ]
    }
   ],
   "source": [
    "from collections import defaultdict\n",
    "topkeys = defaultdict(int)\n",
    "for rec in recs:\n",
    "    for k in rec['data'].keys():\n",
    "        topkeys[k] += 1\n",
    "print(list(sorted(topkeys.keys())))"
   ]
  },
  {
   "cell_type": "code",
   "execution_count": 3,
   "metadata": {
    "collapsed": false
   },
   "outputs": [
    {
     "name": "stdout",
     "output_type": "stream",
     "text": [
      "about_the_game               12516    11712 !nsane is a nod to t 日本語バージョンダウンロード開始されまし\n",
      "achievements                  6773        1               <DICT>               <DICT>\n",
      "background                   12516    11666 http://cdn.akamai.st http://cdn.akamai.st\n",
      "categories                   12281        1               <LIST>               <LIST>\n",
      "controller_support            3480        1                 full                 full\n",
      "demos                         1159        1               <LIST>               <LIST>\n",
      "detailed_description         12516    11713 !nsane is a nod to t 日本語バージョンダウンロード開始されまし\n",
      "developers                   11881        1               <LIST>               <LIST>\n",
      "dlc                           2107        1               <LIST>               <LIST>\n",
      "drm_notice                      82       43 Act Control<br>5 mac                valve\n",
      "ext_user_account_notice        144       89 1C Game Studios Acco       www.doak.co.za\n",
      "genres                       11773        1               <LIST>               <LIST>\n",
      "header_image                 12516    12334 http://cdn.akamai.st http://cdn.akamai.st\n",
      "is_free                      12516        1                 True                 True\n",
      "legal_notice                  5282     4490 \"Age of Steel: Recha           ⓒ REMIMORY\n",
      "linux_requirements           12516        1               <DICT>               <DICT>\n",
      "mac_requirements             12516        1               <DICT>               <DICT>\n",
      "metacritic                    2267        1               <DICT>               <DICT>\n",
      "movies                       10905        1               <LIST>               <LIST>\n",
      "name                         12516    12360 ! That Bastard Is Tr              ｈａｃｋｍｕｄ\n",
      "package_groups               12516        1               <LIST>               <LIST>\n",
      "packages                     10452        1               <LIST>               <LIST>\n",
      "pc_requirements              12516        1               <DICT>               <DICT>\n",
      "platforms                    12516        1               <DICT>               <DICT>\n",
      "price_overview               10266        1               <DICT>               <DICT>\n",
      "publishers                   12516        1               <LIST>               <LIST>\n",
      "recommendations               4861        1               <DICT>               <DICT>\n",
      "release_date                 12516        1               <DICT>               <DICT>\n",
      "required_age                 12516       12                    0                    7\n",
      "reviews                       3222     3192 \"...strategy blender “단순, 명쾌, 통쾌함 속 예술.”\n",
      "screenshots                  11815        1               <LIST>               <LIST>\n",
      "short_description            12516    10577 !nsane is a nod to t 日本語バージョンダウンロード開始されまし\n",
      "steam_appid                  12516    12367                   10                99910\n",
      "support_info                 12516        1               <DICT>               <DICT>\n",
      "supported_languages          12482     2286 Arabic<strong>*</str Turkish, English, Si\n",
      "type                         12516        1                 game                 game\n",
      "website                      12516     8267          Edmundm.com     www.xenomorph.me\n"
     ]
    }
   ],
   "source": [
    "for ky,tot in sorted(topkeys.items()):\n",
    "    count = 0\n",
    "    uniq = set()\n",
    "    mn, mx = None, None\n",
    "    \n",
    "    for rec in recs:\n",
    "        val = rec['data'].get(ky, None)\n",
    "        if not val:\n",
    "            continue\n",
    "        count += 1\n",
    "        if isinstance(val, dict):\n",
    "            val = \"<DICT>\"\n",
    "        elif isinstance(val, list):\n",
    "            val = \"<LIST>\"\n",
    "        else:\n",
    "            val = str(val).strip()\n",
    "        uniq.add(val)\n",
    "        if mn is None or val < mn:\n",
    "            mn = val\n",
    "        if mx is None or val > mx:\n",
    "            mx = val\n",
    "    print(\"%-25s %8d %8d %20s %20s\" % (ky, tot, len(uniq), str(mn)[:20], str(mx)[:20]))\n",
    "        "
   ]
  },
  {
   "cell_type": "code",
   "execution_count": 4,
   "metadata": {
    "collapsed": false
   },
   "outputs": [
    {
     "name": "stdout",
     "output_type": "stream",
     "text": [
      "{'email': '', 'url': 'http://steamcommunity.com/app/10'}\n",
      "\n",
      "{'email': 'info@overflowgames.se', 'url': 'www.overflowgames.se'}\n",
      "\n",
      "{'email': 'info@playdev.net', 'url': ''}\n",
      "\n",
      "{'email': 'rimplydev@gmail.com', 'url': ''}\n",
      "\n",
      "{'email': 'overwatch@idhasstudios.com', 'url': ''}\n",
      "\n",
      "{'email': 'chibisi84@gmail.com', 'url': ''}\n",
      "\n",
      "{'email': 'ragtagradical@gmail.com', 'url': 'http://www.ragtagradical.com/'}\n",
      "\n",
      "{'email': 'contactus@darkartzentertainment.com', 'url': 'www.darkartzentertainment.com'}\n",
      "\n",
      "{'email': 'yfcgamestudio@gmail.com', 'url': 'https://www.facebook.com/SVZDef'}\n",
      "\n",
      "{'email': 'contact@milo-games.co.uk', 'url': 'http://www.milo-games.co.uk/'}\n",
      "\n",
      "{'email': '', 'url': 'http://flyingcarpetsgames.com/'}\n",
      "\n",
      "{'email': 'admin@wadjeteyegames.com', 'url': 'http://www.wadjeteyegames.com'}\n",
      "\n",
      "Counter({'url': 12516, 'email': 12516})\n"
     ]
    }
   ],
   "source": [
    "from random import choice\n",
    "from collections import Counter\n",
    "from pprint import PrettyPrinter\n",
    "pp = PrettyPrinter(width=120)\n",
    "pprint = pp.pprint\n",
    "\n",
    "def fields(name):\n",
    "    for rec in recs:\n",
    "        v = rec['data'].get(name, None)\n",
    "        if v:\n",
    "            yield v\n",
    "            \n",
    "field_values = list(fields('support_info'))\n",
    "def out(v):\n",
    "    pprint(v)\n",
    "    print(\"\")\n",
    "out(field_values[0])\n",
    "out(field_values[-1])\n",
    "for _ in range(10):\n",
    "    out(choice(field_values))\n",
    "\n",
    "\n",
    "# def scan_values():\n",
    "#     for fv in field_values:\n",
    "#         free, purchase, subscript = False, False, False\n",
    "#         for pg in fv:\n",
    "#             if pg.get('is_recurring_subscription', '') == 'true':\n",
    "#                 subscript = True\n",
    "#             for s in pg.get('subs', list()):\n",
    "#                 if s.get('is_free_license', None):\n",
    "#                     free = True\n",
    "#                 elif s.get('price_in_cents_with_discount', 0) > 0:\n",
    "#                     purchase = True\n",
    "#         yield (free, purchase, subscript)\n",
    "# pprint(Counter(list(scan_values())))\n",
    "           \n",
    "pprint(Counter([k for fv in field_values for k in fv.keys()]))\n",
    "\n",
    "# pprint(Counter([i.get('description', 'MISSING').lower() for fv in field_values for i in fv]))"
   ]
  },
  {
   "cell_type": "markdown",
   "metadata": {},
   "source": [
    "## Categories\n",
    "\n",
    "Each of these should be boolean column (from list of dict's, check 'description')\n",
    "\n",
    "* Co-op:Co-op|Local Co-op|Online Co-op\n",
    "* Multiplayer:Cross-Platform Multiplayer|Local Multi-Player|Multi-player|Online Multi-Player|Shared/Split Screen\n",
    "* In-App Purchases\n",
    "* Includes Source SDK\n",
    "* Includes level editor\n",
    "* MMO\n",
    "* Single-player\n",
    "* VR Support"
   ]
  },
  {
   "cell_type": "markdown",
   "metadata": {},
   "source": [
    "## Genres\n",
    "\n",
    "Like categories, it's a list of dicts. Use the dict['description'] for text and discretize:\n",
    "\n",
    "If description is empty string, then ignore it.\n",
    "\n",
    "All descriptions not described below are GenreIsOther\n",
    "\n",
    "These descriptions become GenreIsXXX:\n",
    "\n",
    "* indie\n",
    "* action\n",
    "* adventure\n",
    "* casual\n",
    "* strategy\n",
    "* rpg\n",
    "* simulation\n",
    "* early access\n",
    "* free to play\n",
    "* sports\n",
    "* racing\n",
    "* massively multiplayer\n",
    "\n",
    "These description become GenreIsNotGame:\n",
    "\n",
    "* utilities\n",
    "* design & illustration\n",
    "* animation & modeling\n",
    "* software training\n",
    "* education\n",
    "* audio production\n",
    "* video production\n",
    "* web publishing\n",
    "* photo editing\n",
    "* accounting\n"
   ]
  },
  {
   "cell_type": "markdown",
   "metadata": {},
   "source": [
    "## Requirements\n",
    "\n",
    "Applied to linux_requirements, mac_requirements, and pc_requirements\n",
    "\n",
    "Value is dictionary with possible keys:\n",
    "\n",
    "* minimum\n",
    "* recommended\n",
    "\n",
    "Turn into boolean, i.e.\n",
    "\n",
    "* LinuxReqsHaveMin = True if val.get('minimum', '') else False\n",
    "* LinuxReqsHaveRec = True if val.get('recommended', '') else False\n",
    "* MacReqsHaveMin = True if val.get('minimum', '') else False\n",
    "* MacReqsHaveRec = True if val.get('recommended', '') else False\n",
    "* PCReqsHaveMin = True if val.get('minimum', '') else False\n",
    "* PCReqsHaveRec = True if val.get('recommended', '') else False\n"
   ]
  },
  {
   "cell_type": "markdown",
   "metadata": {},
   "source": [
    "## Package Groups\n",
    "\n",
    "3 boolean columns: FreeVerAvail, PurchaseAvail, SubscriptionAvail\n",
    "\n",
    "Code for all:\n",
    "\n",
    "````\n",
    "def package_groups(rec):\n",
    "    pgs = rec.get(\"data\", dict()).get(\"package_groups\", list)\n",
    "    free, purchase, subscript = False, False, False\n",
    "    for pg in pgs:\n",
    "        if pg.get('is_recurring_subscription', '') == 'true':\n",
    "            subscript = True\n",
    "        for s in pg.get('subs', list()):\n",
    "            if s.get('is_free_license', None):\n",
    "                free = True\n",
    "            elif s.get('price_in_cents_with_discount', 0) > 0:\n",
    "                purchase = True\n",
    "    return (free, purchase, subscript)\n",
    "````\n"
   ]
  }
 ],
 "metadata": {
  "kernelspec": {
   "display_name": "Python 3",
   "language": "python",
   "name": "python3"
  },
  "language_info": {
   "codemirror_mode": {
    "name": "ipython",
    "version": 3
   },
   "file_extension": ".py",
   "mimetype": "text/x-python",
   "name": "python",
   "nbconvert_exporter": "python",
   "pygments_lexer": "ipython3",
   "version": "3.5.1"
  },
  "widgets": {
   "state": {},
   "version": "1.1.1"
  }
 },
 "nbformat": 4,
 "nbformat_minor": 0
}
